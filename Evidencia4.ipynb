{
  "nbformat": 4,
  "nbformat_minor": 0,
  "metadata": {
    "colab": {
      "private_outputs": true,
      "provenance": [],
      "authorship_tag": "ABX9TyOFEULlUFHy2DGUg+OnrvX8",
      "include_colab_link": true
    },
    "kernelspec": {
      "name": "python3",
      "display_name": "Python 3"
    },
    "language_info": {
      "name": "python"
    }
  },
  "cells": [
    {
      "cell_type": "markdown",
      "metadata": {
        "id": "view-in-github",
        "colab_type": "text"
      },
      "source": [
        "<a href=\"https://colab.research.google.com/github/Jorge-Henao-Varela/Jorge_Henao/blob/main/Evidencia4.ipynb\" target=\"_parent\"><img src=\"https://colab.research.google.com/assets/colab-badge.svg\" alt=\"Open In Colab\"/></a>"
      ]
    },
    {
      "cell_type": "code",
      "execution_count": null,
      "metadata": {
        "id": "EUiL930kB_h2"
      },
      "outputs": [],
      "source": [
        "import csv\n",
        "\n",
        "frutas = [\n",
        "    [\"Manzana\", \"Roja\", \"Dulce\"],\n",
        "    [\"Plátano\", \"Amarillo\", \"Dulce\"],\n",
        "    [\"Lima\", \"Verde\", \"Ácida\"]\n",
        "]\n",
        "\n",
        "nombre_archivo = \"frutas.csv\"  # Nombre del archivo\n",
        "\n",
        "try:\n",
        "    with open(nombre_archivo, 'w', newline='', encoding='utf-8') as archivo_csv:\n",
        "        escritor = csv.writer(archivo_csv)\n",
        "        escritor.writerows(frutas)  # Escribe todas las filas a la vez\n",
        "\n",
        "    print(f\"Los datos se han guardado en {nombre_archivo} correctamente.\")\n",
        "\n",
        "except Exception as e:\n",
        "    print(f\"Ocurrió un error al escribir el archivo: {e}\")"
      ]
    },
    {
      "cell_type": "code",
      "source": [],
      "metadata": {
        "id": "PdtE1URrC036"
      },
      "execution_count": null,
      "outputs": []
    }
  ]
}