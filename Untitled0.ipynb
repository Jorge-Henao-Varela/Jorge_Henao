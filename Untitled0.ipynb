{
  "nbformat": 4,
  "nbformat_minor": 0,
  "metadata": {
    "colab": {
      "private_outputs": true,
      "provenance": [],
      "authorship_tag": "ABX9TyPaS6wElYASiG+9j71f6uVd",
      "include_colab_link": true
    },
    "kernelspec": {
      "name": "python3",
      "display_name": "Python 3"
    },
    "language_info": {
      "name": "python"
    }
  },
  "cells": [
    {
      "cell_type": "markdown",
      "metadata": {
        "id": "view-in-github",
        "colab_type": "text"
      },
      "source": [
        "<a href=\"https://colab.research.google.com/github/Jorge-Henao-Varela/Jorge_Henao/blob/main/Untitled0.ipynb\" target=\"_parent\"><img src=\"https://colab.research.google.com/assets/colab-badge.svg\" alt=\"Open In Colab\"/></a>"
      ]
    },
    {
      "cell_type": "code",
      "execution_count": null,
      "metadata": {
        "id": "oGrug9TNHs6Y"
      },
      "outputs": [],
      "source": [
        "# prompt: class Persona:\n",
        "#     def __init__(self, nombre, edad):\n",
        "#         self.nombre = nombre\n",
        "#         self.edad = edad\n",
        "#     def saludar(self):\n",
        "#         print(f\"Hola, mi nombre es {self.nombre} y tengo {self.edad} años.\")\n",
        "# # Crear un objeto de la clase Persona\n",
        "# persona1 = Persona(\"Juan\", 30)\n",
        "# # Acceder a los atributos del objeto\n",
        "# print(persona1.nombre)  # Imprime: Juan\n",
        "# # Llamar a un método del objeto\n",
        "# persona1.saludar()  # Imprime: Hola, mi nombre es Juan y tengo 30 años.\n",
        "\n",
        "class Persona:\n",
        "    def __init__(self, nombre, edad):\n",
        "        self.nombre = nombre\n",
        "        self.edad = edad\n",
        "\n",
        "    def saludar(self):\n",
        "        print(f\"Hola, mi nombre es {self.nombre} y tengo {self.edad} años.\")\n",
        "\n",
        "# Crear un objeto de la clase Persona\n",
        "persona1 = Persona(\"Juan\", 30)\n",
        "\n",
        "# Acceder a los atributos del objeto\n",
        "print(persona1.nombre)  # Imprime: Juan\n",
        "\n",
        "# Llamar a un método del objeto\n",
        "persona1.saludar()  # Imprime: Hola, mi nombre es Juan y tengo 30 años.\n",
        "\n",
        "# Ejemplo de creación de otro objeto\n",
        "persona2 = Persona(\"Ana\", 25)\n",
        "persona2.saludar() # Imprime: Hola, mi nombre es Ana y tengo 25 años\n"
      ]
    }
  ]
}